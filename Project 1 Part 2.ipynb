{
 "cells": [
  {
   "cell_type": "code",
   "execution_count": 4,
   "metadata": {},
   "outputs": [],
   "source": [
    "def load_data(filename):\n",
    "    with open(filename, 'r') as file:\n",
    "        data = [line.strip().split('\\t') for line in file if line.strip()]\n",
    "    return data\n",
    "\n",
    "def str_to_float(data, missing_val='1.00000000000000e+99'):\n",
    "    for row in data:\n",
    "        for i in range(len(row)):\n",
    "            if row[i] == missing_val:\n",
    "                row[i] = None\n",
    "            else:\n",
    "                row[i] = float(row[i])\n",
    "    return data\n",
    "\n",
    "def column_means(data):\n",
    "    means = [0 for i in range(len(data[0]))]\n",
    "    counts = [0 for i in range(len(data[0]))]\n",
    "    for row in data:\n",
    "        for i in range(len(row)):\n",
    "            if row[i] is not None:\n",
    "                means[i] += row[i]\n",
    "                counts[i] += 1\n",
    "    return [mean / count if count else 0 for mean, count in zip(means, counts)]\n",
    "\n",
    "def replace_missing_values(data, means):\n",
    "    for row in data:\n",
    "        for i in range(len(row)):\n",
    "            if row[i] is None:\n",
    "                row[i] = means[i]\n",
    "    return data\n",
    "\n",
    "def save_data(data, filename):\n",
    "    with open(filename, 'w') as file:\n",
    "        for row in data:\n",
    "            file.write('\\t'.join(map(str, row)) + '\\n')\n",
    "\n",
    "# Load the dataset\n",
    "filename = 'MissingData1.txt'\n",
    "data = load_data(filename)\n",
    "\n",
    "# Convert all strings to floats and replace missing values with None\n",
    "data = str_to_float(data)\n",
    "\n",
    "# Calculate the means of each column\n",
    "means = column_means(data)\n",
    "\n",
    "# Replace missing values with the column mean\n",
    "data = replace_missing_values(data, means)\n",
    "\n",
    "# Save the imputed data to a text file\n",
    "output_filename = 'Imputed_' + filename\n",
    "save_data(data, output_filename)\n"
   ]
  }
 ],
 "metadata": {
  "kernelspec": {
   "display_name": "Python 3",
   "language": "python",
   "name": "python3"
  },
  "language_info": {
   "codemirror_mode": {
    "name": "ipython",
    "version": 3
   },
   "file_extension": ".py",
   "mimetype": "text/x-python",
   "name": "python",
   "nbconvert_exporter": "python",
   "pygments_lexer": "ipython3",
   "version": "3.10.11"
  }
 },
 "nbformat": 4,
 "nbformat_minor": 2
}
